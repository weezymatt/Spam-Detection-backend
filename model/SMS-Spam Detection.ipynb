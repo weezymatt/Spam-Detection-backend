{
 "cells": [
  {
   "cell_type": "markdown",
   "id": "92c34459",
   "metadata": {},
   "source": [
    "# Overview\n",
    "\n",
    "From: **[Kaggle SMS Spam Collection Dataset](https://www.kaggle.com/datasets/uciml/sms-spam-collection-dataset/data)**\n",
    "\n",
    "**Context**\n",
    "\n",
    "The SMS Spam Collection is a set of SMS tagged messages that have been collected for SMS Spam research. It contains one set of SMS messages in English of 5,574 messages, \n",
    "\n",
    "tagged acording being ham (legitimate) or spam.\n",
    "\n",
    "**Content**\n",
    "\n",
    "The files contain one message per line. Each line is composed by two columns: v1 contains the label (ham or spam) and v2 contains the raw text.\n",
    "\n",
    "**Notes**\n",
    "\n",
    "This project stems (ha!) from practicing text normalization and practicing with various normalization techniques (i.e., lemmatization, stemming, case folding, and embeddings).\n",
    "\n",
    "**Binary Classification**\n",
    "\n",
    "This is a binary classification problem that requires distinguishing spam from regular mail. Additionally, the data is annotated and will require training a \n",
    "\n",
    "supervised model using that data."
   ]
  },
  {
   "cell_type": "markdown",
   "id": "ad8abf05",
   "metadata": {},
   "source": [
    "## Approach\n",
    "- Read Data\n",
    "- Explore the Data\n",
    "- Processing the messages\n",
    "- Classification"
   ]
  },
  {
   "cell_type": "markdown",
   "id": "38fea327",
   "metadata": {},
   "source": [
    "## Step 1: Install Libraries"
   ]
  },
  {
   "cell_type": "code",
   "execution_count": 5,
   "id": "1a98fdb4",
   "metadata": {},
   "outputs": [],
   "source": [
    "# Import Libraries\n",
    "import pandas as pd\n",
    "import numpy as np\n",
    "import nltk"
   ]
  },
  {
   "cell_type": "code",
   "execution_count": 6,
   "id": "dacc2ea4",
   "metadata": {},
   "outputs": [],
   "source": [
    "# Import Stemmer & Lemmatizer \n",
    "from nltk.stem import PorterStemmer, WordNetLemmatizer\n",
    "from nltk.corpus import stopwords\n",
    "import re"
   ]
  },
  {
   "cell_type": "markdown",
   "id": "c687df9a",
   "metadata": {},
   "source": [
    "## Step 2: Read Data"
   ]
  },
  {
   "cell_type": "code",
   "execution_count": 7,
   "id": "2eec60a8",
   "metadata": {},
   "outputs": [
    {
     "data": {
      "text/html": [
       "<div>\n",
       "<style scoped>\n",
       "    .dataframe tbody tr th:only-of-type {\n",
       "        vertical-align: middle;\n",
       "    }\n",
       "\n",
       "    .dataframe tbody tr th {\n",
       "        vertical-align: top;\n",
       "    }\n",
       "\n",
       "    .dataframe thead th {\n",
       "        text-align: right;\n",
       "    }\n",
       "</style>\n",
       "<table border=\"1\" class=\"dataframe\">\n",
       "  <thead>\n",
       "    <tr style=\"text-align: right;\">\n",
       "      <th></th>\n",
       "      <th>label</th>\n",
       "      <th>msg</th>\n",
       "    </tr>\n",
       "  </thead>\n",
       "  <tbody>\n",
       "    <tr>\n",
       "      <th>0</th>\n",
       "      <td>ham</td>\n",
       "      <td>Go until jurong point, crazy.. Available only ...</td>\n",
       "    </tr>\n",
       "    <tr>\n",
       "      <th>1</th>\n",
       "      <td>ham</td>\n",
       "      <td>Ok lar... Joking wif u oni...</td>\n",
       "    </tr>\n",
       "    <tr>\n",
       "      <th>2</th>\n",
       "      <td>spam</td>\n",
       "      <td>Free entry in 2 a wkly comp to win FA Cup fina...</td>\n",
       "    </tr>\n",
       "    <tr>\n",
       "      <th>3</th>\n",
       "      <td>ham</td>\n",
       "      <td>U dun say so early hor... U c already then say...</td>\n",
       "    </tr>\n",
       "    <tr>\n",
       "      <th>4</th>\n",
       "      <td>ham</td>\n",
       "      <td>Nah I don't think he goes to usf, he lives aro...</td>\n",
       "    </tr>\n",
       "  </tbody>\n",
       "</table>\n",
       "</div>"
      ],
      "text/plain": [
       "  label                                                msg\n",
       "0   ham  Go until jurong point, crazy.. Available only ...\n",
       "1   ham                      Ok lar... Joking wif u oni...\n",
       "2  spam  Free entry in 2 a wkly comp to win FA Cup fina...\n",
       "3   ham  U dun say so early hor... U c already then say...\n",
       "4   ham  Nah I don't think he goes to usf, he lives aro..."
      ]
     },
     "execution_count": 7,
     "metadata": {},
     "output_type": "execute_result"
    }
   ],
   "source": [
    "# Clean dataframe by dropping unnamed columns & renaming v1, v2: label, msg\n",
    "sms = pd.read_csv('spam.csv', encoding='latin-1')\n",
    "sms = sms.drop(['Unnamed: 2', 'Unnamed: 3', 'Unnamed: 4'], axis=1)\n",
    "sms.columns = ['label', 'msg']\n",
    "sms.head()"
   ]
  },
  {
   "cell_type": "code",
   "execution_count": 8,
   "id": "985775cf",
   "metadata": {},
   "outputs": [
    {
     "name": "stdout",
     "output_type": "stream",
     "text": [
      "[columns, rows] = (5572, 2)\n"
     ]
    }
   ],
   "source": [
    "# Dataframe size\n",
    "print(\"[columns, rows] =\", sms.shape)"
   ]
  },
  {
   "cell_type": "code",
   "execution_count": 9,
   "id": "4f796bc1",
   "metadata": {},
   "outputs": [
    {
     "name": "stdout",
     "output_type": "stream",
     "text": [
      "Ex. 1 \t Go until jurong point, crazy.. Available only in bugis n great world la e buffet... Cine there got amore wat...\n",
      "Ex. 2 \t Ok lar... Joking wif u oni...\n",
      "Ex. 3 \t Free entry in 2 a wkly comp to win FA Cup final tkts 21st May 2005. Text FA to 87121 to receive entry question(std txt rate)T&C's apply 08452810075over18's\n"
     ]
    }
   ],
   "source": [
    "# Message contents\n",
    "print(f\"Ex. 1 \\t {sms['msg'][0]}\")\n",
    "print(f\"Ex. 2 \\t {sms['msg'][1]}\")\n",
    "print(f\"Ex. 3 \\t {sms['msg'][2]}\")"
   ]
  },
  {
   "cell_type": "code",
   "execution_count": 10,
   "id": "309692e8",
   "metadata": {},
   "outputs": [],
   "source": [
    "# save FOR LATER COME BACK\n",
    "# One-Hot-Encoding for ham/spam\n",
    "# sms = sms.replace(['ham', 'spam'],[0,1])"
   ]
  },
  {
   "cell_type": "markdown",
   "id": "518ffdb6",
   "metadata": {},
   "source": [
    "## 2) Explore the Data"
   ]
  },
  {
   "cell_type": "code",
   "execution_count": 11,
   "id": "64420d4e",
   "metadata": {},
   "outputs": [
    {
     "name": "stdout",
     "output_type": "stream",
     "text": [
      "no. of rows: 5572\n"
     ]
    }
   ],
   "source": [
    "#sms.describe()\n",
    "print(f\"no. of rows: {len(sms)}\")"
   ]
  },
  {
   "cell_type": "code",
   "execution_count": 12,
   "id": "761b5b64",
   "metadata": {},
   "outputs": [
    {
     "data": {
      "text/plain": [
       "label\n",
       "ham     4825\n",
       "spam     747\n",
       "Name: count, dtype: int64"
      ]
     },
     "execution_count": 12,
     "metadata": {},
     "output_type": "execute_result"
    }
   ],
   "source": [
    "# Total spam(1) and ham(0) messages\n",
    "sms.label.value_counts()"
   ]
  },
  {
   "cell_type": "code",
   "execution_count": 13,
   "id": "be6a8496",
   "metadata": {},
   "outputs": [
    {
     "data": {
      "text/html": [
       "<div>\n",
       "<style scoped>\n",
       "    .dataframe tbody tr th:only-of-type {\n",
       "        vertical-align: middle;\n",
       "    }\n",
       "\n",
       "    .dataframe tbody tr th {\n",
       "        vertical-align: top;\n",
       "    }\n",
       "\n",
       "    .dataframe thead th {\n",
       "        text-align: right;\n",
       "    }\n",
       "</style>\n",
       "<table border=\"1\" class=\"dataframe\">\n",
       "  <thead>\n",
       "    <tr style=\"text-align: right;\">\n",
       "      <th></th>\n",
       "      <th>label</th>\n",
       "      <th>msg</th>\n",
       "      <th>Count</th>\n",
       "    </tr>\n",
       "  </thead>\n",
       "  <tbody>\n",
       "    <tr>\n",
       "      <th>0</th>\n",
       "      <td>ham</td>\n",
       "      <td>Go until jurong point, crazy.. Available only ...</td>\n",
       "      <td>111</td>\n",
       "    </tr>\n",
       "    <tr>\n",
       "      <th>1</th>\n",
       "      <td>ham</td>\n",
       "      <td>Ok lar... Joking wif u oni...</td>\n",
       "      <td>29</td>\n",
       "    </tr>\n",
       "    <tr>\n",
       "      <th>2</th>\n",
       "      <td>spam</td>\n",
       "      <td>Free entry in 2 a wkly comp to win FA Cup fina...</td>\n",
       "      <td>155</td>\n",
       "    </tr>\n",
       "    <tr>\n",
       "      <th>3</th>\n",
       "      <td>ham</td>\n",
       "      <td>U dun say so early hor... U c already then say...</td>\n",
       "      <td>49</td>\n",
       "    </tr>\n",
       "    <tr>\n",
       "      <th>4</th>\n",
       "      <td>ham</td>\n",
       "      <td>Nah I don't think he goes to usf, he lives aro...</td>\n",
       "      <td>61</td>\n",
       "    </tr>\n",
       "  </tbody>\n",
       "</table>\n",
       "</div>"
      ],
      "text/plain": [
       "  label                                                msg  Count\n",
       "0   ham  Go until jurong point, crazy.. Available only ...    111\n",
       "1   ham                      Ok lar... Joking wif u oni...     29\n",
       "2  spam  Free entry in 2 a wkly comp to win FA Cup fina...    155\n",
       "3   ham  U dun say so early hor... U c already then say...     49\n",
       "4   ham  Nah I don't think he goes to usf, he lives aro...     61"
      ]
     },
     "execution_count": 13,
     "metadata": {},
     "output_type": "execute_result"
    }
   ],
   "source": [
    "# Count the number of characters in each message\n",
    "sms['Count'] = sms['msg'].apply(len)\n",
    "sms.head()"
   ]
  },
  {
   "cell_type": "markdown",
   "id": "5833c673",
   "metadata": {},
   "source": [
    "### **2.1 Exploratory Data Analysis**"
   ]
  },
  {
   "cell_type": "code",
   "execution_count": 14,
   "id": "35a81f91",
   "metadata": {},
   "outputs": [],
   "source": [
    "import matplotlib.pyplot as plt\n",
    "import seaborn as sns"
   ]
  },
  {
   "cell_type": "code",
   "execution_count": 15,
   "id": "d6a67052",
   "metadata": {},
   "outputs": [
    {
     "data": {
      "text/plain": [
       "<Axes: ylabel='Frequency'>"
      ]
     },
     "execution_count": 15,
     "metadata": {},
     "output_type": "execute_result"
    },
    {
     "data": {
      "image/png": "[encoded data removed]",
      "text/plain": [
       "<Figure size 1000x1000 with 1 Axes>"
      ]
     },
     "metadata": {},
     "output_type": "display_data"
    }
   ],
   "source": [
    "sms['Count'].plot(bins=50, kind='hist',figsize=(10,10))"
   ]
  },
  {
   "cell_type": "code",
   "execution_count": 16,
   "id": "2ca706aa",
   "metadata": {},
   "outputs": [
    {
     "data": {
      "text/plain": [
       "array([<Axes: title={'center': 'ham'}>, <Axes: title={'center': 'spam'}>],\n",
       "      dtype=object)"
      ]
     },
     "execution_count": 16,
     "metadata": {},
     "output_type": "execute_result"
    },
    {
     "data": {
      "image/png": "[encoded data removed]",
      "text/plain": [
       "<Figure size 1500x800 with 2 Axes>"
      ]
     },
     "metadata": {},
     "output_type": "display_data"
    }
   ],
   "source": [
    "sms.hist(column='Count', by='label', bins=50, figsize=(15,8))"
   ]
  },
  {
   "cell_type": "markdown",
   "id": "50038c38",
   "metadata": {},
   "source": [
    "# 3) Processing Messages\n",
    "- PorterStemmer, Regular Expressions\n",
    "- Bag of Words"
   ]
  },
  {
   "cell_type": "code",
   "execution_count": 17,
   "id": "62a536ab",
   "metadata": {},
   "outputs": [],
   "source": [
    "corpus = []\n",
    "ps = PorterStemmer()\n",
    "wnl = WordNetLemmatizer()"
   ]
  },
  {
   "cell_type": "code",
   "execution_count": 18,
   "id": "ee918fd9",
   "metadata": {},
   "outputs": [
    {
     "data": {
      "text/plain": [
       "'Ok lar... Joking wif u oni...'"
      ]
     },
     "execution_count": 18,
     "metadata": {},
     "output_type": "execute_result"
    }
   ],
   "source": [
    "sms['msg'][1]"
   ]
  },
  {
   "cell_type": "code",
   "execution_count": 19,
   "id": "784be504",
   "metadata": {},
   "outputs": [
    {
     "name": "stdout",
     "output_type": "stream",
     "text": [
      "PorterStemmer: joke\n",
      "WordNetLemmatizer: joking\n"
     ]
    }
   ],
   "source": [
    "test = \"joking\"\n",
    "print(f\"PorterStemmer: {ps.stem(test)}\")\n",
    "print(f\"WordNetLemmatizer: {wnl.lemmatize(test)}\")"
   ]
  },
  {
   "cell_type": "code",
   "execution_count": 20,
   "id": "4c77f86c",
   "metadata": {},
   "outputs": [],
   "source": [
    "# Implement Bag of Words\n",
    "from sklearn.feature_extraction.text import CountVectorizer"
   ]
  },
  {
   "cell_type": "code",
   "execution_count": 21,
   "id": "efe59f81",
   "metadata": {},
   "outputs": [],
   "source": [
    "# First method using ONLY bag of words\n",
    "count=CountVectorizer()\n",
    "msg = count.fit_transform(sms['msg']).toarray()"
   ]
  },
  {
   "cell_type": "code",
   "execution_count": 22,
   "id": "f1bbdfbc",
   "metadata": {},
   "outputs": [
    {
     "name": "stdout",
     "output_type": "stream",
     "text": [
      "\t\t\t\t Message  0\n",
      "\n",
      " After Regular Expression 0 : Go until jurong point  crazy   Available only in bugis n great world la e buffet    Cine there got amore wat   \n",
      "\n",
      " After case folding 0 : go until jurong point  crazy   available only in bugis n great world la e buffet    cine there got amore wat   \n",
      "\n",
      " After splitting 0 : ['go', 'until', 'jurong', 'point', 'crazy', 'available', 'only', 'in', 'bugis', 'n', 'great', 'world', 'la', 'e', 'buffet', 'cine', 'there', 'got', 'amore', 'wat']\n",
      "\n",
      " After stemming 0 : ['go', 'jurong', 'point', 'crazi', 'avail', 'bugi', 'n', 'great', 'world', 'la', 'e', 'buffet', 'cine', 'got', 'amor', 'wat']\n",
      "\n",
      " Final Prepared - Message 0 : go jurong point crazi avail bugi n great world la e buffet cine got amor wat, \n",
      "\n",
      "\n",
      "\t\t\t\t Message  1\n",
      "\n",
      " After Regular Expression 1 : Ok lar    Joking wif u oni   \n",
      "\n",
      " After case folding 1 : ok lar    joking wif u oni   \n",
      "\n",
      " After splitting 1 : ['ok', 'lar', 'joking', 'wif', 'u', 'oni']\n",
      "\n",
      " After stemming 1 : ['ok', 'lar', 'joke', 'wif', 'u', 'oni']\n",
      "\n",
      " Final Prepared - Message 1 : ok lar joke wif u oni, \n",
      "\n",
      "\n"
     ]
    }
   ],
   "source": [
    "# Second method using regular expressions/ Porter Stemmer OR Word Net Lemmatizer\n",
    "for i in range(0, 5572):\n",
    "    \n",
    "    # Applying common REs to handle specific cases\n",
    "    \"\"\"\n",
    "    Replace email address with 'email'\n",
    "    Replace URLS with 'http'\n",
    "    Replace currency symbols with 'moneysymb'\n",
    "    Replace phone numbers with 'phonenumb'\n",
    "    Replace numbers with 'numb'\n",
    "    \"\"\"\n",
    "    cleaned_msg = sms['msg'][i]\n",
    "    cleaned_msg = re.sub('\\b[\\w\\-.]+?@\\w+?\\.\\w{2,4}\\b', 'email', sms['msg'][i])\n",
    "    cleaned_msg = re.sub('(http[s]?\\S+)|(\\w+\\.[A-Za-z]{2,4}\\S*)', 'https', sms['msg'][i])\n",
    "    cleaned_msg = re.sub('£|\\$', 'moneysymb', sms['msg'][i])\n",
    "    cleaned_msg = re.sub('\\b(?:\\+?(\\d{1,3})\\s?)?[\\-(.]?\\d{3}[\\s.-]?\\d{3}[\\s.-]?\\d{4}\\b', 'phonenumb', sms['msg'][i])\n",
    "    cleaned_msg = re.sub('\\d+(\\.\\d+)?','numb', sms['msg'][i])\n",
    "    \n",
    "    # Remove punctuation for normalization\n",
    "    cleaned_msg = re.sub('[^\\w\\d\\s]', ' ', sms['msg'][i])\n",
    "    \n",
    "    # Begin printing example 1\n",
    "    if i<2:\n",
    "        print(\"\\t\\t\\t\\t Message \", i)\n",
    "    \n",
    "    if i<2:\n",
    "        print(f\"\\n After Regular Expression {i} : {cleaned_msg}\")\n",
    "    \n",
    "    # Case folding \n",
    "    cleaned_msg = cleaned_msg.lower()\n",
    "    if i<2:\n",
    "        print(f\"\\n After case folding {i} : {cleaned_msg}\")\n",
    "    \n",
    "    # Splitting words to tokenize\n",
    "    tokenized_msg = cleaned_msg.split()\n",
    "    if i<2:\n",
    "        print(f\"\\n After splitting {i} : {tokenized_msg}\")\n",
    "        \n",
    "    # PorterStemmer: ps.stem(word) avoiding Stopwords; \n",
    "    stemmed_msg = [ps.stem(word) for word in tokenized_msg if word not in set(stopwords.words('english'))]\n",
    "    if i<2:\n",
    "        print(f\"\\n After stemming {i} : {stemmed_msg}\")\n",
    "\n",
    "    # WordNetLemmatizer: wnl.lemmatize(word) avoiding Stopwords\n",
    "    # lemmatized_msg = [wnl.lemmatize(word) for word in tokenized_msg if word not in set(stopwords.words('english'))]\n",
    "    # if i<2:\n",
    "    #     print(f\"\\n After lemmatizing {i} : {lemmatized_msg}\")\n",
    "\n",
    "    # Preparing Messages with Remaining Tokens\n",
    "    final_msg = ' '.join(stemmed_msg)\n",
    "    # final_msg = ' '.join(lemmatized_msg)\n",
    "    if i<2:\n",
    "        print(f\"\\n Final Prepared - Message {i} : {final_msg}, \\n\\n\")\n",
    "        \n",
    "    # Prepare WordVector Corpus\n",
    "    \n",
    "    corpus.append(final_msg)    "
   ]
  },
  {
   "cell_type": "code",
   "execution_count": 23,
   "id": "87f3d099",
   "metadata": {},
   "outputs": [
    {
     "data": {
      "text/plain": [
       "(5572, 8672)"
      ]
     },
     "execution_count": 23,
     "metadata": {},
     "output_type": "execute_result"
    }
   ],
   "source": [
    "msg.shape"
   ]
  },
  {
   "cell_type": "code",
   "execution_count": 24,
   "id": "b8f42723",
   "metadata": {},
   "outputs": [],
   "source": [
    "# already implemented: see above  \n",
    "count = CountVectorizer()\n",
    "msg = count.fit_transform(corpus).toarray() "
   ]
  },
  {
   "cell_type": "markdown",
   "id": "15ea7273",
   "metadata": {},
   "source": [
    "# 4) Apply Classification\n",
    "- Naïve Bayes\n",
    "- Gaussian Naïve Bayes\n",
    "- Decision Trees\n",
    "\n",
    "**Input**: Prepared a Sparse Matrix\n",
    "\n",
    "**Ouput**: Labels (Ham or Spam)"
   ]
  },
  {
   "cell_type": "code",
   "execution_count": 25,
   "id": "2112bba1",
   "metadata": {},
   "outputs": [
    {
     "name": "stdout",
     "output_type": "stream",
     "text": [
      "label\n",
      "ham     4825\n",
      "spam     747\n",
      "Name: count, dtype: int64\n"
     ]
    }
   ],
   "source": [
    "y = sms['label']\n",
    "# done earlier in the process; same results but beginning to encode labels\n",
    "print(y.value_counts())"
   ]
  },
  {
   "cell_type": "markdown",
   "id": "f31bf700",
   "metadata": {},
   "source": [
    "**Encoding Labels**"
   ]
  },
  {
   "cell_type": "code",
   "execution_count": 26,
   "id": "dd89f685",
   "metadata": {},
   "outputs": [],
   "source": [
    "from sklearn.preprocessing import LabelEncoder\n",
    "le = LabelEncoder()\n",
    "y = le.fit_transform(y)"
   ]
  },
  {
   "cell_type": "markdown",
   "id": "66b2db3e",
   "metadata": {},
   "source": [
    "**Split the train-test data**"
   ]
  },
  {
   "cell_type": "code",
   "execution_count": 27,
   "id": "397e3421",
   "metadata": {},
   "outputs": [],
   "source": [
    "from sklearn.model_selection import train_test_split"
   ]
  },
  {
   "cell_type": "code",
   "execution_count": 28,
   "id": "5d45d08e",
   "metadata": {},
   "outputs": [
    {
     "data": {
      "text/plain": [
       "(5572, 7213)"
      ]
     },
     "execution_count": 28,
     "metadata": {},
     "output_type": "execute_result"
    }
   ],
   "source": [
    "msg.shape"
   ]
  },
  {
   "cell_type": "code",
   "execution_count": 29,
   "id": "b49d1407",
   "metadata": {},
   "outputs": [],
   "source": [
    "X_train, X_test, y_train, y_test = train_test_split(msg, y, test_size=0.2, random_state=1)"
   ]
  },
  {
   "cell_type": "code",
   "execution_count": 30,
   "id": "927d625b",
   "metadata": {},
   "outputs": [
    {
     "name": "stdout",
     "output_type": "stream",
     "text": [
      "(4457, 7213)\n",
      "(1115, 7213)\n"
     ]
    }
   ],
   "source": [
    "print(X_train.shape)\n",
    "print(X_test.shape)"
   ]
  },
  {
   "cell_type": "code",
   "execution_count": 31,
   "id": "c9997225",
   "metadata": {},
   "outputs": [
    {
     "data": {
      "text/plain": [
       "array([[0, 0, 0, ..., 0, 0, 0],\n",
       "       [0, 0, 0, ..., 0, 0, 0],\n",
       "       [0, 0, 0, ..., 0, 0, 0],\n",
       "       ...,\n",
       "       [0, 0, 0, ..., 0, 0, 0],\n",
       "       [0, 0, 0, ..., 0, 0, 0],\n",
       "       [0, 0, 0, ..., 0, 0, 0]])"
      ]
     },
     "execution_count": 31,
     "metadata": {},
     "output_type": "execute_result"
    }
   ],
   "source": [
    "X_train"
   ]
  },
  {
   "cell_type": "markdown",
   "id": "cd03c7b0",
   "metadata": {},
   "source": [
    "**Classifier time!**"
   ]
  },
  {
   "cell_type": "markdown",
   "id": "669017e3",
   "metadata": {},
   "source": [
    "### 4.1 Naïve Bayes"
   ]
  },
  {
   "cell_type": "code",
   "execution_count": 32,
   "id": "a665810f",
   "metadata": {},
   "outputs": [
    {
     "data": {
      "text/html": [
       "<style>#sk-container-id-1 {color: black;}#sk-container-id-1 pre{padding: 0;}#sk-container-id-1 div.sk-toggleable {background-color: white;}#sk-container-id-1 label.sk-toggleable__label {cursor: pointer;display: block;width: 100%;margin-bottom: 0;padding: 0.3em;box-sizing: border-box;text-align: center;}#sk-container-id-1 label.sk-toggleable__label-arrow:before {content: \"▸\";float: left;margin-right: 0.25em;color: #696969;}#sk-container-id-1 label.sk-toggleable__label-arrow:hover:before {color: black;}#sk-container-id-1 div.sk-estimator:hover label.sk-toggleable__label-arrow:before {color: black;}#sk-container-id-1 div.sk-toggleable__content {max-height: 0;max-width: 0;overflow: hidden;text-align: left;background-color: #f0f8ff;}#sk-container-id-1 div.sk-toggleable__content pre {margin: 0.2em;color: black;border-radius: 0.25em;background-color: #f0f8ff;}#sk-container-id-1 input.sk-toggleable__control:checked~div.sk-toggleable__content {max-height: 200px;max-width: 100%;overflow: auto;}#sk-container-id-1 input.sk-toggleable__control:checked~label.sk-toggleable__label-arrow:before {content: \"▾\";}#sk-container-id-1 div.sk-estimator input.sk-toggleable__control:checked~label.sk-toggleable__label {background-color: #d4ebff;}#sk-container-id-1 div.sk-label input.sk-toggleable__control:checked~label.sk-toggleable__label {background-color: #d4ebff;}#sk-container-id-1 input.sk-hidden--visually {border: 0;clip: rect(1px 1px 1px 1px);clip: rect(1px, 1px, 1px, 1px);height: 1px;margin: -1px;overflow: hidden;padding: 0;position: absolute;width: 1px;}#sk-container-id-1 div.sk-estimator {font-family: monospace;background-color: #f0f8ff;border: 1px dotted black;border-radius: 0.25em;box-sizing: border-box;margin-bottom: 0.5em;}#sk-container-id-1 div.sk-estimator:hover {background-color: #d4ebff;}#sk-container-id-1 div.sk-parallel-item::after {content: \"\";width: 100%;border-bottom: 1px solid gray;flex-grow: 1;}#sk-container-id-1 div.sk-label:hover label.sk-toggleable__label {background-color: #d4ebff;}#sk-container-id-1 div.sk-serial::before {content: \"\";position: absolute;border-left: 1px solid gray;box-sizing: border-box;top: 0;bottom: 0;left: 50%;z-index: 0;}#sk-container-id-1 div.sk-serial {display: flex;flex-direction: column;align-items: center;background-color: white;padding-right: 0.2em;padding-left: 0.2em;position: relative;}#sk-container-id-1 div.sk-item {position: relative;z-index: 1;}#sk-container-id-1 div.sk-parallel {display: flex;align-items: stretch;justify-content: center;background-color: white;position: relative;}#sk-container-id-1 div.sk-item::before, #sk-container-id-1 div.sk-parallel-item::before {content: \"\";position: absolute;border-left: 1px solid gray;box-sizing: border-box;top: 0;bottom: 0;left: 50%;z-index: -1;}#sk-container-id-1 div.sk-parallel-item {display: flex;flex-direction: column;z-index: 1;position: relative;background-color: white;}#sk-container-id-1 div.sk-parallel-item:first-child::after {align-self: flex-end;width: 50%;}#sk-container-id-1 div.sk-parallel-item:last-child::after {align-self: flex-start;width: 50%;}#sk-container-id-1 div.sk-parallel-item:only-child::after {width: 0;}#sk-container-id-1 div.sk-dashed-wrapped {border: 1px dashed gray;margin: 0 0.4em 0.5em 0.4em;box-sizing: border-box;padding-bottom: 0.4em;background-color: white;}#sk-container-id-1 div.sk-label label {font-family: monospace;font-weight: bold;display: inline-block;line-height: 1.2em;}#sk-container-id-1 div.sk-label-container {text-align: center;}#sk-container-id-1 div.sk-container {/* jupyter's `normalize.less` sets `[hidden] { display: none; }` but bootstrap.min.css set `[hidden] { display: none !important; }` so we also need the `!important` here to be able to override the default hidden behavior on the sphinx rendered scikit-learn.org. See: https://github.com/scikit-learn/scikit-learn/issues/21755 */display: inline-block !important;position: relative;}#sk-container-id-1 div.sk-text-repr-fallback {display: none;}</style><div id=\"sk-container-id-1\" class=\"sk-top-container\"><div class=\"sk-text-repr-fallback\"><pre>MultinomialNB()</pre><b>In a Jupyter environment, please rerun this cell to show the HTML representation or trust the notebook. <br />On GitHub, the HTML representation is unable to render, please try loading this page with nbviewer.org.</b></div><div class=\"sk-container\" hidden><div class=\"sk-item\"><div class=\"sk-estimator sk-toggleable\"><input class=\"sk-toggleable__control sk-hidden--visually\" id=\"sk-estimator-id-1\" type=\"checkbox\" checked><label for=\"sk-estimator-id-1\" class=\"sk-toggleable__label sk-toggleable__label-arrow\">MultinomialNB</label><div class=\"sk-toggleable__content\"><pre>MultinomialNB()</pre></div></div></div></div></div>"
      ],
      "text/plain": [
       "MultinomialNB()"
      ]
     },
     "execution_count": 32,
     "metadata": {},
     "output_type": "execute_result"
    }
   ],
   "source": [
    "from sklearn.naive_bayes import MultinomialNB\n",
    "nb_classifier = MultinomialNB()\n",
    "nb_classifier.fit(X_train, y_train)"
   ]
  },
  {
   "cell_type": "code",
   "execution_count": 33,
   "id": "a1e0ae08",
   "metadata": {},
   "outputs": [],
   "source": [
    "prediction=nb_classifier.predict(X_test)"
   ]
  },
  {
   "cell_type": "code",
   "execution_count": 34,
   "id": "47d0e92f",
   "metadata": {},
   "outputs": [
    {
     "name": "stdout",
     "output_type": "stream",
     "text": [
      "[0 0 0 ... 0 0 0]\n"
     ]
    }
   ],
   "source": [
    "print(prediction)"
   ]
  },
  {
   "cell_type": "code",
   "execution_count": 35,
   "id": "af08579a",
   "metadata": {},
   "outputs": [],
   "source": [
    "# Evaluating\n",
    "from sklearn.metrics import confusion_matrix\n",
    "cm = confusion_matrix(y_test, prediction)"
   ]
  },
  {
   "cell_type": "code",
   "execution_count": 36,
   "id": "7aae5e4a",
   "metadata": {},
   "outputs": [
    {
     "data": {
      "text/plain": [
       "array([[966,  10],\n",
       "       [  6, 133]])"
      ]
     },
     "execution_count": 36,
     "metadata": {},
     "output_type": "execute_result"
    }
   ],
   "source": [
    "cm"
   ]
  },
  {
   "cell_type": "code",
   "execution_count": 37,
   "id": "cfad6018",
   "metadata": {},
   "outputs": [
    {
     "name": "stdout",
     "output_type": "stream",
     "text": [
      "Accuracy Score: 0.9856502242152466\n",
      "Precision Score: 0.9300699300699301\n",
      "Recall Score: 0.9568345323741008\n",
      "F1 Score: 0.9432624113475178\n"
     ]
    }
   ],
   "source": [
    "from sklearn.metrics import accuracy_score, precision_score, recall_score, f1_score\n",
    "\n",
    "print(\"Accuracy Score: {}\". format(accuracy_score(y_test, prediction)) )\n",
    "print(\"Precision Score: {}\". format(precision_score(y_test, prediction)) )\n",
    "print(\"Recall Score: {}\". format(recall_score(y_test, prediction)) )\n",
    "print(\"F1 Score: {}\". format(f1_score(y_test, prediction)) )"
   ]
  },
  {
   "cell_type": "code",
   "execution_count": 38,
   "id": "7c90f9b9",
   "metadata": {},
   "outputs": [
    {
     "name": "stdout",
     "output_type": "stream",
     "text": [
      "Accuarcy : 0.98565 \n",
      "\n",
      "\n",
      "              precision    recall  f1-score   support\n",
      "\n",
      "           0       0.99      0.99      0.99       976\n",
      "           1       0.93      0.96      0.94       139\n",
      "\n",
      "    accuracy                           0.99      1115\n",
      "   macro avg       0.96      0.97      0.97      1115\n",
      "weighted avg       0.99      0.99      0.99      1115\n",
      "\n"
     ]
    }
   ],
   "source": [
    "from sklearn.metrics import classification_report\n",
    "print(\"Accuarcy : %0.5f \\n\\n\"% accuracy_score(y_test, nb_classifier.predict(X_test)))\n",
    "print(classification_report(y_test, nb_classifier.predict(X_test)))"
   ]
  },
  {
   "cell_type": "markdown",
   "id": "b0f53cf9",
   "metadata": {},
   "source": [
    "### 4.2 Gaussian NB"
   ]
  },
  {
   "cell_type": "code",
   "execution_count": 39,
   "id": "5dc26fd2",
   "metadata": {},
   "outputs": [
    {
     "data": {
      "text/html": [
       "<style>#sk-container-id-2 {color: black;}#sk-container-id-2 pre{padding: 0;}#sk-container-id-2 div.sk-toggleable {background-color: white;}#sk-container-id-2 label.sk-toggleable__label {cursor: pointer;display: block;width: 100%;margin-bottom: 0;padding: 0.3em;box-sizing: border-box;text-align: center;}#sk-container-id-2 label.sk-toggleable__label-arrow:before {content: \"▸\";float: left;margin-right: 0.25em;color: #696969;}#sk-container-id-2 label.sk-toggleable__label-arrow:hover:before {color: black;}#sk-container-id-2 div.sk-estimator:hover label.sk-toggleable__label-arrow:before {color: black;}#sk-container-id-2 div.sk-toggleable__content {max-height: 0;max-width: 0;overflow: hidden;text-align: left;background-color: #f0f8ff;}#sk-container-id-2 div.sk-toggleable__content pre {margin: 0.2em;color: black;border-radius: 0.25em;background-color: #f0f8ff;}#sk-container-id-2 input.sk-toggleable__control:checked~div.sk-toggleable__content {max-height: 200px;max-width: 100%;overflow: auto;}#sk-container-id-2 input.sk-toggleable__control:checked~label.sk-toggleable__label-arrow:before {content: \"▾\";}#sk-container-id-2 div.sk-estimator input.sk-toggleable__control:checked~label.sk-toggleable__label {background-color: #d4ebff;}#sk-container-id-2 div.sk-label input.sk-toggleable__control:checked~label.sk-toggleable__label {background-color: #d4ebff;}#sk-container-id-2 input.sk-hidden--visually {border: 0;clip: rect(1px 1px 1px 1px);clip: rect(1px, 1px, 1px, 1px);height: 1px;margin: -1px;overflow: hidden;padding: 0;position: absolute;width: 1px;}#sk-container-id-2 div.sk-estimator {font-family: monospace;background-color: #f0f8ff;border: 1px dotted black;border-radius: 0.25em;box-sizing: border-box;margin-bottom: 0.5em;}#sk-container-id-2 div.sk-estimator:hover {background-color: #d4ebff;}#sk-container-id-2 div.sk-parallel-item::after {content: \"\";width: 100%;border-bottom: 1px solid gray;flex-grow: 1;}#sk-container-id-2 div.sk-label:hover label.sk-toggleable__label {background-color: #d4ebff;}#sk-container-id-2 div.sk-serial::before {content: \"\";position: absolute;border-left: 1px solid gray;box-sizing: border-box;top: 0;bottom: 0;left: 50%;z-index: 0;}#sk-container-id-2 div.sk-serial {display: flex;flex-direction: column;align-items: center;background-color: white;padding-right: 0.2em;padding-left: 0.2em;position: relative;}#sk-container-id-2 div.sk-item {position: relative;z-index: 1;}#sk-container-id-2 div.sk-parallel {display: flex;align-items: stretch;justify-content: center;background-color: white;position: relative;}#sk-container-id-2 div.sk-item::before, #sk-container-id-2 div.sk-parallel-item::before {content: \"\";position: absolute;border-left: 1px solid gray;box-sizing: border-box;top: 0;bottom: 0;left: 50%;z-index: -1;}#sk-container-id-2 div.sk-parallel-item {display: flex;flex-direction: column;z-index: 1;position: relative;background-color: white;}#sk-container-id-2 div.sk-parallel-item:first-child::after {align-self: flex-end;width: 50%;}#sk-container-id-2 div.sk-parallel-item:last-child::after {align-self: flex-start;width: 50%;}#sk-container-id-2 div.sk-parallel-item:only-child::after {width: 0;}#sk-container-id-2 div.sk-dashed-wrapped {border: 1px dashed gray;margin: 0 0.4em 0.5em 0.4em;box-sizing: border-box;padding-bottom: 0.4em;background-color: white;}#sk-container-id-2 div.sk-label label {font-family: monospace;font-weight: bold;display: inline-block;line-height: 1.2em;}#sk-container-id-2 div.sk-label-container {text-align: center;}#sk-container-id-2 div.sk-container {/* jupyter's `normalize.less` sets `[hidden] { display: none; }` but bootstrap.min.css set `[hidden] { display: none !important; }` so we also need the `!important` here to be able to override the default hidden behavior on the sphinx rendered scikit-learn.org. See: https://github.com/scikit-learn/scikit-learn/issues/21755 */display: inline-block !important;position: relative;}#sk-container-id-2 div.sk-text-repr-fallback {display: none;}</style><div id=\"sk-container-id-2\" class=\"sk-top-container\"><div class=\"sk-text-repr-fallback\"><pre>GaussianNB()</pre><b>In a Jupyter environment, please rerun this cell to show the HTML representation or trust the notebook. <br />On GitHub, the HTML representation is unable to render, please try loading this page with nbviewer.org.</b></div><div class=\"sk-container\" hidden><div class=\"sk-item\"><div class=\"sk-estimator sk-toggleable\"><input class=\"sk-toggleable__control sk-hidden--visually\" id=\"sk-estimator-id-2\" type=\"checkbox\" checked><label for=\"sk-estimator-id-2\" class=\"sk-toggleable__label sk-toggleable__label-arrow\">GaussianNB</label><div class=\"sk-toggleable__content\"><pre>GaussianNB()</pre></div></div></div></div></div>"
      ],
      "text/plain": [
       "GaussianNB()"
      ]
     },
     "execution_count": 39,
     "metadata": {},
     "output_type": "execute_result"
    }
   ],
   "source": [
    "from sklearn.naive_bayes import GaussianNB\n",
    "model2 = GaussianNB()\n",
    "model2.fit(X_train, y_train)"
   ]
  },
  {
   "cell_type": "code",
   "execution_count": 40,
   "id": "6c64fb31",
   "metadata": {},
   "outputs": [],
   "source": [
    "prediction=model2.predict(X_test)"
   ]
  },
  {
   "cell_type": "code",
   "execution_count": 41,
   "id": "fd2bee08",
   "metadata": {},
   "outputs": [],
   "source": [
    "# Evaluating\n",
    "from sklearn.metrics import confusion_matrix\n",
    "cm = confusion_matrix(y_test, prediction)"
   ]
  },
  {
   "cell_type": "code",
   "execution_count": 42,
   "id": "db8b9308",
   "metadata": {},
   "outputs": [
    {
     "data": {
      "text/plain": [
       "array([[848, 128],\n",
       "       [  9, 130]])"
      ]
     },
     "execution_count": 42,
     "metadata": {},
     "output_type": "execute_result"
    }
   ],
   "source": [
    "cm"
   ]
  },
  {
   "cell_type": "code",
   "execution_count": 43,
   "id": "5f0cc28d",
   "metadata": {},
   "outputs": [
    {
     "name": "stdout",
     "output_type": "stream",
     "text": [
      "Accuarcy : 0.87713 \n",
      "\n",
      "\n",
      "              precision    recall  f1-score   support\n",
      "\n",
      "           0       0.99      0.87      0.93       976\n",
      "           1       0.50      0.94      0.65       139\n",
      "\n",
      "    accuracy                           0.88      1115\n",
      "   macro avg       0.75      0.90      0.79      1115\n",
      "weighted avg       0.93      0.88      0.89      1115\n",
      "\n"
     ]
    }
   ],
   "source": [
    "print(\"Accuarcy : %0.5f \\n\\n\"% accuracy_score(y_test, model2.predict(X_test)))\n",
    "print(classification_report(y_test, model2.predict(X_test)))"
   ]
  },
  {
   "cell_type": "code",
   "execution_count": 44,
   "id": "87748d57",
   "metadata": {},
   "outputs": [
    {
     "name": "stdout",
     "output_type": "stream",
     "text": [
      "Accuracy Score: 0.8771300448430494\n",
      "Precision Score: 0.5038759689922481\n",
      "Recall Score: 0.935251798561151\n",
      "F1 Score: 0.654911838790932\n"
     ]
    }
   ],
   "source": [
    "print(\"Accuracy Score: {}\". format(accuracy_score(y_test, prediction)) )\n",
    "print(\"Precision Score: {}\". format(precision_score(y_test, prediction)) )\n",
    "print(\"Recall Score: {}\". format(recall_score(y_test, prediction)) )\n",
    "print(\"F1 Score: {}\". format(f1_score(y_test, prediction)) )"
   ]
  },
  {
   "cell_type": "markdown",
   "id": "0d94d940",
   "metadata": {},
   "source": [
    "### 4.3 Decision Tree"
   ]
  },
  {
   "cell_type": "code",
   "execution_count": 45,
   "id": "5df46a00",
   "metadata": {},
   "outputs": [
    {
     "data": {
      "text/html": [
       "<style>#sk-container-id-3 {color: black;}#sk-container-id-3 pre{padding: 0;}#sk-container-id-3 div.sk-toggleable {background-color: white;}#sk-container-id-3 label.sk-toggleable__label {cursor: pointer;display: block;width: 100%;margin-bottom: 0;padding: 0.3em;box-sizing: border-box;text-align: center;}#sk-container-id-3 label.sk-toggleable__label-arrow:before {content: \"▸\";float: left;margin-right: 0.25em;color: #696969;}#sk-container-id-3 label.sk-toggleable__label-arrow:hover:before {color: black;}#sk-container-id-3 div.sk-estimator:hover label.sk-toggleable__label-arrow:before {color: black;}#sk-container-id-3 div.sk-toggleable__content {max-height: 0;max-width: 0;overflow: hidden;text-align: left;background-color: #f0f8ff;}#sk-container-id-3 div.sk-toggleable__content pre {margin: 0.2em;color: black;border-radius: 0.25em;background-color: #f0f8ff;}#sk-container-id-3 input.sk-toggleable__control:checked~div.sk-toggleable__content {max-height: 200px;max-width: 100%;overflow: auto;}#sk-container-id-3 input.sk-toggleable__control:checked~label.sk-toggleable__label-arrow:before {content: \"▾\";}#sk-container-id-3 div.sk-estimator input.sk-toggleable__control:checked~label.sk-toggleable__label {background-color: #d4ebff;}#sk-container-id-3 div.sk-label input.sk-toggleable__control:checked~label.sk-toggleable__label {background-color: #d4ebff;}#sk-container-id-3 input.sk-hidden--visually {border: 0;clip: rect(1px 1px 1px 1px);clip: rect(1px, 1px, 1px, 1px);height: 1px;margin: -1px;overflow: hidden;padding: 0;position: absolute;width: 1px;}#sk-container-id-3 div.sk-estimator {font-family: monospace;background-color: #f0f8ff;border: 1px dotted black;border-radius: 0.25em;box-sizing: border-box;margin-bottom: 0.5em;}#sk-container-id-3 div.sk-estimator:hover {background-color: #d4ebff;}#sk-container-id-3 div.sk-parallel-item::after {content: \"\";width: 100%;border-bottom: 1px solid gray;flex-grow: 1;}#sk-container-id-3 div.sk-label:hover label.sk-toggleable__label {background-color: #d4ebff;}#sk-container-id-3 div.sk-serial::before {content: \"\";position: absolute;border-left: 1px solid gray;box-sizing: border-box;top: 0;bottom: 0;left: 50%;z-index: 0;}#sk-container-id-3 div.sk-serial {display: flex;flex-direction: column;align-items: center;background-color: white;padding-right: 0.2em;padding-left: 0.2em;position: relative;}#sk-container-id-3 div.sk-item {position: relative;z-index: 1;}#sk-container-id-3 div.sk-parallel {display: flex;align-items: stretch;justify-content: center;background-color: white;position: relative;}#sk-container-id-3 div.sk-item::before, #sk-container-id-3 div.sk-parallel-item::before {content: \"\";position: absolute;border-left: 1px solid gray;box-sizing: border-box;top: 0;bottom: 0;left: 50%;z-index: -1;}#sk-container-id-3 div.sk-parallel-item {display: flex;flex-direction: column;z-index: 1;position: relative;background-color: white;}#sk-container-id-3 div.sk-parallel-item:first-child::after {align-self: flex-end;width: 50%;}#sk-container-id-3 div.sk-parallel-item:last-child::after {align-self: flex-start;width: 50%;}#sk-container-id-3 div.sk-parallel-item:only-child::after {width: 0;}#sk-container-id-3 div.sk-dashed-wrapped {border: 1px dashed gray;margin: 0 0.4em 0.5em 0.4em;box-sizing: border-box;padding-bottom: 0.4em;background-color: white;}#sk-container-id-3 div.sk-label label {font-family: monospace;font-weight: bold;display: inline-block;line-height: 1.2em;}#sk-container-id-3 div.sk-label-container {text-align: center;}#sk-container-id-3 div.sk-container {/* jupyter's `normalize.less` sets `[hidden] { display: none; }` but bootstrap.min.css set `[hidden] { display: none !important; }` so we also need the `!important` here to be able to override the default hidden behavior on the sphinx rendered scikit-learn.org. See: https://github.com/scikit-learn/scikit-learn/issues/21755 */display: inline-block !important;position: relative;}#sk-container-id-3 div.sk-text-repr-fallback {display: none;}</style><div id=\"sk-container-id-3\" class=\"sk-top-container\"><div class=\"sk-text-repr-fallback\"><pre>DecisionTreeClassifier(random_state=50)</pre><b>In a Jupyter environment, please rerun this cell to show the HTML representation or trust the notebook. <br />On GitHub, the HTML representation is unable to render, please try loading this page with nbviewer.org.</b></div><div class=\"sk-container\" hidden><div class=\"sk-item\"><div class=\"sk-estimator sk-toggleable\"><input class=\"sk-toggleable__control sk-hidden--visually\" id=\"sk-estimator-id-3\" type=\"checkbox\" checked><label for=\"sk-estimator-id-3\" class=\"sk-toggleable__label sk-toggleable__label-arrow\">DecisionTreeClassifier</label><div class=\"sk-toggleable__content\"><pre>DecisionTreeClassifier(random_state=50)</pre></div></div></div></div></div>"
      ],
      "text/plain": [
       "DecisionTreeClassifier(random_state=50)"
      ]
     },
     "execution_count": 45,
     "metadata": {},
     "output_type": "execute_result"
    }
   ],
   "source": [
    "from sklearn.tree import DecisionTreeClassifier\n",
    "dt = DecisionTreeClassifier(random_state=50)\n",
    "dt.fit(X_train, y_train)"
   ]
  },
  {
   "cell_type": "code",
   "execution_count": 46,
   "id": "2342e4f0",
   "metadata": {},
   "outputs": [],
   "source": [
    "# Predicting\n",
    "prediction = dt.predict(X_test)"
   ]
  },
  {
   "cell_type": "code",
   "execution_count": 47,
   "id": "de1fd05f",
   "metadata": {},
   "outputs": [],
   "source": [
    "cm = confusion_matrix(y_test, prediction)"
   ]
  },
  {
   "cell_type": "code",
   "execution_count": 48,
   "id": "42ccbc9b",
   "metadata": {},
   "outputs": [
    {
     "data": {
      "text/plain": [
       "array([[964,  12],\n",
       "       [  9, 130]])"
      ]
     },
     "execution_count": 48,
     "metadata": {},
     "output_type": "execute_result"
    }
   ],
   "source": [
    "cm"
   ]
  },
  {
   "cell_type": "code",
   "execution_count": 49,
   "id": "48dc8ef8",
   "metadata": {},
   "outputs": [
    {
     "name": "stdout",
     "output_type": "stream",
     "text": [
      "Accuarcy : 0.98117 \n",
      "\n",
      "\n",
      "              precision    recall  f1-score   support\n",
      "\n",
      "           0       0.99      0.99      0.99       976\n",
      "           1       0.92      0.94      0.93       139\n",
      "\n",
      "    accuracy                           0.98      1115\n",
      "   macro avg       0.95      0.96      0.96      1115\n",
      "weighted avg       0.98      0.98      0.98      1115\n",
      "\n"
     ]
    }
   ],
   "source": [
    "print(\"Accuarcy : %0.5f \\n\\n\"% accuracy_score(y_test, dt.predict(X_test)))\n",
    "print(classification_report(y_test, dt.predict(X_test)))"
   ]
  },
  {
   "cell_type": "code",
   "execution_count": 50,
   "id": "aac7b40c",
   "metadata": {},
   "outputs": [
    {
     "name": "stdout",
     "output_type": "stream",
     "text": [
      "Accuracy Score: 0.9811659192825112\n",
      "Precision Score: 0.9154929577464789\n",
      "Recall Score: 0.935251798561151\n",
      "F1 Score: 0.9252669039145907\n"
     ]
    }
   ],
   "source": [
    "print(\"Accuracy Score: {}\". format(accuracy_score(y_test, prediction)) )\n",
    "print(\"Precision Score: {}\". format(precision_score(y_test, prediction)) )\n",
    "print(\"Recall Score: {}\". format(recall_score(y_test, prediction)) )\n",
    "print(\"F1 Score: {}\". format(f1_score(y_test, prediction)) )"
   ]
  },
  {
   "cell_type": "markdown",
   "id": "f202dd9e",
   "metadata": {},
   "source": [
    "# 5) Final Accuracy\n",
    "(Using Method 2; method 1 is trivially worse)\n",
    "- **Decision Tree  : 98.117%**\n",
    "- **Guassian NB    : 87.133%**  \n",
    "- **Multinomial NB : 98.565%**"
   ]
  },
  {
   "cell_type": "markdown",
   "id": "5dc7287c",
   "metadata": {},
   "source": [
    "### Notes:\n",
    "Multinomial NB works better for features that represent counts or frequencies, often used in text classification. Bernoulli NB is suitable for binary/boolean features. If both models are performing similarly, it's worth exploring further by analyzing the misclassifications."
   ]
  },
  {
   "cell_type": "markdown",
   "id": "366d0072",
   "metadata": {},
   "source": [
    "### Consider using lemmatization instead of stemming! **DONE!**"
   ]
  },
  {
   "cell_type": "markdown",
   "id": "e4cb3f5f",
   "metadata": {},
   "source": [
    "**December 20th, 2023:** _Note on stemming/lemmatization_\n",
    "\n",
    "Lemmatization is trivially worse than stemming. This may be surprising since stems are crudely stemmed and lemma contain lexical meaning from wordnet. \n",
    "\n",
    "Example is shown in the preprocessing step:\n",
    "- PS: joking -> joke; \n",
    "- WNL: joking -> joking \n",
    "\n",
    "This simple distinction is not captured in the lemmatizer and regarding our problem set of differentiating between spam and non-spam, following crudely chopping may be best. However, lemmatization is only **trivially** worse. "
   ]
  },
  {
   "cell_type": "markdown",
   "id": "b3981132",
   "metadata": {},
   "source": []
  },
  {
   "cell_type": "code",
   "execution_count": null,
   "id": "c8030396",
   "metadata": {},
   "outputs": [],
   "source": []
  },
  {
   "cell_type": "markdown",
   "id": "7b2387b8",
   "metadata": {},
   "source": [
    "# pickle"
   ]
  },
  {
   "cell_type": "markdown",
   "id": "d26e3ad1",
   "metadata": {},
   "source": [
    "play with below"
   ]
  },
  {
   "cell_type": "code",
   "execution_count": 51,
   "id": "bbceeb9c",
   "metadata": {},
   "outputs": [
    {
     "data": {
      "text/plain": [
       "['finalized_model.sav']"
      ]
     },
     "execution_count": 51,
     "metadata": {},
     "output_type": "execute_result"
    }
   ],
   "source": [
    "import joblib\n",
    "filename = 'finalized_model.sav'\n",
    "joblib.dump(nb_classifier, filename)"
   ]
  },
  {
   "cell_type": "code",
   "execution_count": 52,
   "id": "77eba2de",
   "metadata": {},
   "outputs": [],
   "source": [
    "loaded_model = joblib.load(filename)"
   ]
  },
  {
   "cell_type": "code",
   "execution_count": 53,
   "id": "8a2994f4",
   "metadata": {},
   "outputs": [],
   "source": [
    "result = loaded_model.score(X_test, y_test)"
   ]
  },
  {
   "cell_type": "code",
   "execution_count": 54,
   "id": "b981f9fd",
   "metadata": {},
   "outputs": [
    {
     "name": "stdout",
     "output_type": "stream",
     "text": [
      "0.9856502242152466\n"
     ]
    }
   ],
   "source": [
    "print(result)"
   ]
  },
  {
   "cell_type": "code",
   "execution_count": 109,
   "id": "b7371a2a",
   "metadata": {},
   "outputs": [
    {
     "data": {
      "text/plain": [
       "['vectorizer.sav']"
      ]
     },
     "execution_count": 109,
     "metadata": {},
     "output_type": "execute_result"
    }
   ],
   "source": [
    "filename2 = 'vectorizer.sav'\n",
    "joblib.dump(count, filename2)"
   ]
  },
  {
   "cell_type": "code",
   "execution_count": 112,
   "id": "b556b707",
   "metadata": {},
   "outputs": [],
   "source": [
    "vectorizer = joblib.load(filename2)"
   ]
  },
  {
   "cell_type": "code",
   "execution_count": 117,
   "id": "2d44e232",
   "metadata": {},
   "outputs": [],
   "source": [
    "input = ['Hi Matt A free service for you ONLY!! Please click on the link now!']\n",
    "\n",
    "result2 = vectorizer.transform(input)"
   ]
  },
  {
   "cell_type": "code",
   "execution_count": 118,
   "id": "7cd4d0c5",
   "metadata": {},
   "outputs": [
    {
     "data": {
      "text/plain": [
       "<1x7213 sparse matrix of type '<class 'numpy.int64'>'\n",
       "\twith 4 stored elements in Compressed Sparse Row format>"
      ]
     },
     "execution_count": 118,
     "metadata": {},
     "output_type": "execute_result"
    }
   ],
   "source": [
    "result2"
   ]
  },
  {
   "cell_type": "markdown",
   "id": "da7ca8ce",
   "metadata": {},
   "source": [
    "## Step ? — Inference\n",
    "One of the purposes of text categorization is to produce a function that automatically assigns a class (spam or ham) to a new message based on the model.\n",
    "\n",
    "For example, the message \"A new free service for you only\" could be classify using the model (the last one).\n",
    "\n",
    "Transform the message into a vector of presence absence of the terms present in the dictionary. This is completed by creating a sparse matrix to pull\n",
    "\n",
    "out the relevant features."
   ]
  },
  {
   "cell_type": "code",
   "execution_count": 143,
   "id": "7946bc7d",
   "metadata": {},
   "outputs": [],
   "source": [
    "# Testing grounds to prepare processing function for app.py \n",
    "\n",
    "def process(text):\n",
    "    clean = []\n",
    "    cleaned_msg = text\n",
    "    cleaned_msg = re.sub('\\b[\\w\\-.]+?@\\w+?\\.\\w{2,4}\\b', 'email', cleaned_msg)\n",
    "    cleaned_msg = re.sub('(http[s]?\\S+)|(\\w+\\.[A-Za-z]{2,4}\\S*)', 'https', cleaned_msg)\n",
    "    cleaned_msg = re.sub('£|\\$', 'moneysymb', cleaned_msg)\n",
    "    cleaned_msg = re.sub('\\b(?:\\+?(\\d{1,3})\\s?)?[\\-(.]?\\d{3}[\\s.-]?\\d{3}[\\s.-]?\\d{4}\\b', 'phonenumb', cleaned_msg)\n",
    "    cleaned_msg = re.sub('\\d+(\\.\\d+)?','numb', cleaned_msg)\n",
    "        \n",
    "        # Remove punctuation for normalization\n",
    "    cleaned_msg = re.sub('[^\\w\\d\\s]', ' ', cleaned_msg)\n",
    "                \n",
    "        # Case folding \n",
    "    cleaned_msg = cleaned_msg.lower()\n",
    "        \n",
    "        # Splitting words to tokenize\n",
    "    tokenized_msg = cleaned_msg.split()\n",
    "            \n",
    "        # PorterStemmer: ps.stem(word) avoiding Stopwords; \n",
    "    stemmed_msg = [ps.stem(word) for word in tokenized_msg if word not in set(stopwords.words('english'))]\n",
    "\n",
    "        # Preparing Messages with Remaining Tokens\n",
    "    final_msg = ' '.join(stemmed_msg)\n",
    "   \n",
    "        # Prepare WordVector Corpus\n",
    "        \n",
    "    clean.append(final_msg)  \n",
    "    clean_input = count.transform(clean)\n",
    "\n",
    "    # return the processed message\n",
    "    return clean_input"
   ]
  },
  {
   "cell_type": "code",
   "execution_count": 193,
   "id": "90ee6c1a",
   "metadata": {},
   "outputs": [
    {
     "name": "stdout",
     "output_type": "stream",
     "text": [
      "0.99\n"
     ]
    }
   ],
   "source": [
    "# may also use the probability for the model? \n",
    "probability = round(loaded_model.predict_proba(clean_input)[0][1], 2)\n",
    "print(probability)"
   ]
  },
  {
   "cell_type": "code",
   "execution_count": 185,
   "id": "1086721e",
   "metadata": {},
   "outputs": [
    {
     "name": "stdout",
     "output_type": "stream",
     "text": [
      "The terms detected in the sentence are: ['click' 'free' 'hi' 'link' 'pleas' 'servic']\n",
      "\n",
      "\n",
      "This is a Spam email!\n"
     ]
    }
   ],
   "source": [
    "# Evaluation Function\n",
    "input = \"Hi Matt A free service for you ONLY!! Please click on the link now!\"\n",
    "clean_input = process(input)\n",
    "\n",
    "# Feature extraction\n",
    "print(\"The terms detected in the sentence are:\", np.asarray(count.get_feature_names_out())[clean_input.indices])\n",
    "print('\\n')\n",
    "\n",
    "check = loaded_model.predict(clean_input)[0]\n",
    "if check == 0:\n",
    "    print(\"This is a Ham email!\")\n",
    "else:\n",
    "    print(\"This is a Spam email!\")\n"
   ]
  },
  {
   "cell_type": "code",
   "execution_count": 192,
   "id": "3c35af25",
   "metadata": {},
   "outputs": [
    {
     "name": "stdout",
     "output_type": "stream",
     "text": [
      "The terms detected in the sentence are: ['free' 'new' 'servic']\n",
      "\n",
      "\n",
      "This is a Spam email!\n"
     ]
    }
   ],
   "source": [
    "# Message 2\n",
    "input = \"A new free service for you ONLY!\"\n",
    "clean_input = process(input)\n",
    "\n",
    "# Feature extraction\n",
    "print(\"The terms detected in the sentence are:\", np.asarray(count.get_feature_names_out())[clean_input.indices])\n",
    "print('\\n')\n",
    "\n",
    "check = loaded_model.predict(clean_input)[0]\n",
    "if check == 0:\n",
    "    print(\"This is a Ham email!\")\n",
    "else:\n",
    "    print(\"This is a Spam email!\")"
   ]
  },
  {
   "cell_type": "code",
   "execution_count": 160,
   "id": "f820b1a7",
   "metadata": {},
   "outputs": [
    {
     "name": "stdout",
     "output_type": "stream",
     "text": [
      "The terms detected in the sentence are: ['appoint' 'bring' 'card' 'check' 'click' 'dental' 'hi' 'insur' 'jerri'\n",
      " 'link' 'pleas' 'rememb' 'remind' 'see' 'tomorrow']\n",
      "\n",
      "\n",
      "This is a Ham email!\n"
     ]
    }
   ],
   "source": [
    "# Message 3\n",
    "input = \"Hi Jerry, just a reminder about our appointment tomorrow at 8:00pm for your dental check-up. \\\n",
    "         Please remember to bring your insurance card. See you then! Click this link.\"\n",
    "clean_input = process(input)\n",
    "\n",
    "# Feature extraction\n",
    "print(\"The terms detected in the sentence are:\", np.asarray(count.get_feature_names_out())[clean_input.indices])\n",
    "print('\\n')\n",
    "\n",
    "check = loaded_model.predict(clean_input)[0]\n",
    "if check == 0:\n",
    "    print(\"This is a Ham email!\")\n",
    "else:\n",
    "    print(\"This is a Spam email!\")"
   ]
  },
  {
   "cell_type": "code",
   "execution_count": 156,
   "id": "cb2f397a",
   "metadata": {},
   "outputs": [
    {
     "name": "stdout",
     "output_type": "stream",
     "text": [
      "The terms detected in the sentence are: ['access' 'account' 'act' 'click' 'compromis' 'fast' 'ignor' 'link' 'lose'\n",
      " 'perman' 'risk' 'secur' 'urgent']\n",
      "\n",
      "\n",
      "This is a Spam email!\n"
     ]
    }
   ],
   "source": [
    "# Message 4\n",
    "input = \"URGENT: Your account has been compromised! \\\n",
    "    Click the link to secure your account now or risk losing access permanently. Don't ignore, act fast!\"\n",
    "clean_input = process(input)\n",
    "\n",
    "# Feature extraction\n",
    "print(\"The terms detected in the sentence are:\", np.asarray(count.get_feature_names_out())[clean_input.indices])\n",
    "print('\\n')\n",
    "\n",
    "check = loaded_model.predict(clean_input)[0]\n",
    "if check == 0:\n",
    "    print(\"This is a Ham email!\")\n",
    "else:\n",
    "    print(\"This is a Spam email!\")"
   ]
  },
  {
   "cell_type": "code",
   "execution_count": null,
   "id": "b3a5e37e",
   "metadata": {},
   "outputs": [],
   "source": []
  }
 ],
 "metadata": {
  "kernelspec": {
   "display_name": "Python 3 (ipykernel)",
   "language": "python",
   "name": "python3"
  },
  "language_info": {
   "codemirror_mode": {
    "name": "ipython",
    "version": 3
   },
   "file_extension": ".py",
   "mimetype": "text/x-python",
   "name": "python",
   "nbconvert_exporter": "python",
   "pygments_lexer": "ipython3",
   "version": "3.11.5"
  }
 },
 "nbformat": 4,
 "nbformat_minor": 5
}
